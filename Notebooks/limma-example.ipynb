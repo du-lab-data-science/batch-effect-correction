{
 "cells": [
  {
   "cell_type": "code",
   "execution_count": 51,
   "id": "5d2fa393",
   "metadata": {},
   "outputs": [],
   "source": [
    "from Limma import batchEffectCorrection\n",
    "import pandas as pd\n",
    "from utils.utility_functions import pca_plot"
   ]
  },
  {
   "cell_type": "code",
   "execution_count": 2,
   "id": "273fdcf8",
   "metadata": {},
   "outputs": [
    {
     "name": "stdout",
     "output_type": "stream",
     "text": [
      "Help on function batchEffectCorrection in module Limma:\n",
      "\n",
      "batchEffectCorrection(D, M, method='ls', debug=False)\n",
      "    A python implementation for removeBatchEffect, a R function apart of LIMMA (linear models for Microarrays data) package.\n",
      "    Removes unwanted batch effects by fitting a linear model to the data and removing the component due to batch effects.\n",
      "\n",
      "    Parameters\n",
      "    ---------\n",
      "    D: pd.DataFrame\n",
      "        - Data Matrix of shape (n_signals, n_samples)\n",
      "    M: pd.DataFrame\n",
      "        - MetaData Matrix, can have other covariate information, needs to have batch variable defined\n",
      "    debug: bool:\n",
      "        - If True, return local variables for debugging purposes (default: False)\n",
      "    method: str {ls ...}\n",
      "        - Apply OLS to each signal\n",
      "        - Could add other options such as WLS, GLS\n",
      "\n",
      "    Returns\n",
      "    -------\n",
      "    pd.DataFrame\n",
      "        - Batch-corrected data with same shape as input D (n_signals, n_samples)\n",
      "    References\n",
      "    -------\n",
      "    [1] Smyth, G. K. (2004). Linear models and empirical Bayes methods for assessing\n",
      "    differential expression in microarray experiments. Statistical Applications\n",
      "    in Genetics and Molecular Biology, Vol. 3, No. 1, Article 3.\n",
      "    http://www.bepress.com/sagmb/vol3/iss1/art3\n",
      "\n"
     ]
    }
   ],
   "source": [
    "help(batchEffectCorrection)"
   ]
  },
  {
   "cell_type": "markdown",
   "id": "178bceea",
   "metadata": {},
   "source": [
    "## Sample Data"
   ]
  },
  {
   "cell_type": "code",
   "execution_count": null,
   "id": "2dd71cd0",
   "metadata": {},
   "outputs": [
    {
     "name": "stdout",
     "output_type": "stream",
     "text": [
      "n_samples,n_signals = (200, 10344)\n",
      "number of batches= [1 2]\n"
     ]
    },
    {
     "data": {
      "text/html": [
       "<div>\n",
       "<style scoped>\n",
       "    .dataframe tbody tr th:only-of-type {\n",
       "        vertical-align: middle;\n",
       "    }\n",
       "\n",
       "    .dataframe tbody tr th {\n",
       "        vertical-align: top;\n",
       "    }\n",
       "\n",
       "    .dataframe thead th {\n",
       "        text-align: right;\n",
       "    }\n",
       "</style>\n",
       "<table border=\"1\" class=\"dataframe\">\n",
       "  <thead>\n",
       "    <tr style=\"text-align: right;\">\n",
       "      <th></th>\n",
       "      <th>sample_type</th>\n",
       "      <th>batch</th>\n",
       "    </tr>\n",
       "    <tr>\n",
       "      <th>sample_name</th>\n",
       "      <th></th>\n",
       "      <th></th>\n",
       "    </tr>\n",
       "  </thead>\n",
       "  <tbody>\n",
       "    <tr>\n",
       "      <th>AOU_NIST_001</th>\n",
       "      <td>nist</td>\n",
       "      <td>1</td>\n",
       "    </tr>\n",
       "    <tr>\n",
       "      <th>AOU_HHEAR_P1_001</th>\n",
       "      <td>hhear p1</td>\n",
       "      <td>1</td>\n",
       "    </tr>\n",
       "    <tr>\n",
       "      <th>AOU_SP_001</th>\n",
       "      <td>sp</td>\n",
       "      <td>1</td>\n",
       "    </tr>\n",
       "    <tr>\n",
       "      <th>AOU_S_0001</th>\n",
       "      <td>study</td>\n",
       "      <td>1</td>\n",
       "    </tr>\n",
       "    <tr>\n",
       "      <th>AOU_S_0002</th>\n",
       "      <td>study</td>\n",
       "      <td>1</td>\n",
       "    </tr>\n",
       "  </tbody>\n",
       "</table>\n",
       "</div>"
      ],
      "text/plain": [
       "                 sample_type  batch\n",
       "sample_name                        \n",
       "AOU_NIST_001            nist      1\n",
       "AOU_HHEAR_P1_001    hhear p1      1\n",
       "AOU_SP_001                sp      1\n",
       "AOU_S_0001             study      1\n",
       "AOU_S_0002             study      1"
      ]
     },
     "execution_count": 50,
     "metadata": {},
     "output_type": "execute_result"
    }
   ],
   "source": [
    "D = pd.read_csv(\"Data/2-area_data_detection_filter.csv\").rename(columns={\"Unnamed: 0\":\"sample_name\"}).set_index(\"sample_name\")\n",
    "M = pd.read_csv(\"Data/sample_metadata.csv\").set_index('sample_name')[[\"sample_type\",\"batch\"]]\n",
    "print(f'n_samples,n_signals = {D.shape}')\n",
    "print(f'number of batches= {pd.unique(M['batch'])}')\n",
    "M.head() # 200 samples, 10344 signals across 2 batches"
   ]
  },
  {
   "cell_type": "markdown",
   "id": "0b654e96",
   "metadata": {},
   "source": [
    "## Batch Effect Correction"
   ]
  },
  {
   "cell_type": "code",
   "execution_count": 20,
   "id": "fb332d8e",
   "metadata": {},
   "outputs": [],
   "source": [
    "results = batchEffectCorrection(D.T,M,debug=True)"
   ]
  },
  {
   "cell_type": "markdown",
   "id": "98f2ddd5",
   "metadata": {},
   "source": [
    "- Design Matrix/Model Matrix/Regressor Matrix - A matrix of values of explanatory variabiles of a set of objects\n",
    "\n",
    "- In our case we only have two explanatory variables to model (sample_type and batch) + the intercept \n",
    "\n",
    "- We use deviation encoding to encode categorical variables, this ensures that no level acts as the reference level. Deviation encoding is useful in linear models because it helps to handle multicollinearity issues an makes the coefficients interpretable"
   ]
  },
  {
   "cell_type": "code",
   "execution_count": 42,
   "id": "8a804192",
   "metadata": {},
   "outputs": [
    {
     "data": {
      "text/plain": [
       "DesignMatrix with shape (200, 6)\n",
       "  Columns:\n",
       "    ['Intercept',\n",
       "     'C(batch, Sum)[S.1]',\n",
       "     'C(sample_type, Sum)[S.hhear p1]',\n",
       "     'C(sample_type, Sum)[S.hhear p2]',\n",
       "     'C(sample_type, Sum)[S.nist]',\n",
       "     'C(sample_type, Sum)[S.sp]']\n",
       "  Terms:\n",
       "    'Intercept' (column 0)\n",
       "    'C(batch, Sum)' (column 1)\n",
       "    'C(sample_type, Sum)' (columns 2:6)\n",
       "  (to view full data, use np.asarray(this_obj))"
      ]
     },
     "execution_count": 42,
     "metadata": {},
     "output_type": "execute_result"
    }
   ],
   "source": [
    "#pasty.dmatrix('1 + C(batch,Sum) + C(sample_type,Sum)') - linear model equation used to model batch effects and sample_type\n",
    "results['design'] #deviation encoding of batch and sample type categorical variables creates 6 new variables for the model to use"
   ]
  },
  {
   "cell_type": "markdown",
   "id": "2e615a32",
   "metadata": {},
   "source": [
    "- Once the design matrix is set up, the coefficents/weights/params are found using Oridinary Least Squares \n",
    "\n",
    "- OLS minimizes the SSE of a given signal across samples. \n",
    "\n",
    "- Parameters pertaining to batch are then calculated for every signal (in every sample) and subtracted accordingly"
   ]
  },
  {
   "cell_type": "code",
   "execution_count": 41,
   "id": "6746e5e8",
   "metadata": {},
   "outputs": [
    {
     "data": {
      "text/plain": [
       "[<statsmodels.regression.linear_model.RegressionResultsWrapper at 0x3190d7230>,\n",
       " <statsmodels.regression.linear_model.RegressionResultsWrapper at 0x3190d73b0>,\n",
       " <statsmodels.regression.linear_model.RegressionResultsWrapper at 0x3191d4fb0>,\n",
       " <statsmodels.regression.linear_model.RegressionResultsWrapper at 0x3191d5550>,\n",
       " <statsmodels.regression.linear_model.RegressionResultsWrapper at 0x3191d5af0>]"
      ]
     },
     "execution_count": 41,
     "metadata": {},
     "output_type": "execute_result"
    }
   ],
   "source": [
    "#Stored OLS models \n",
    "results['models'][:5]"
   ]
  },
  {
   "cell_type": "code",
   "execution_count": 37,
   "id": "9ba1e0e9",
   "metadata": {},
   "outputs": [
    {
     "data": {
      "text/plain": [
       "array([[-1.03430685],\n",
       "       [ 1.03192222],\n",
       "       [-1.51707363],\n",
       "       ...,\n",
       "       [ 0.12343251],\n",
       "       [-0.13916916],\n",
       "       [-0.05359292]])"
      ]
     },
     "execution_count": 37,
     "metadata": {},
     "output_type": "execute_result"
    }
   ],
   "source": [
    "#Parameters of Stored Models corresponding to batch\n",
    "results['batch_params']"
   ]
  },
  {
   "cell_type": "code",
   "execution_count": 40,
   "id": "6fded7ce",
   "metadata": {},
   "outputs": [
    {
     "data": {
      "text/plain": [
       "array([[-1.03430685,  1.03192222, -1.51707363, ...,  0.12343251,\n",
       "        -0.13916916, -0.05359292],\n",
       "       [ 1.03430685, -1.03192222,  1.51707363, ..., -0.12343251,\n",
       "         0.13916916,  0.05359292],\n",
       "       [-1.03430685,  1.03192222, -1.51707363, ...,  0.12343251,\n",
       "        -0.13916916, -0.05359292],\n",
       "       ...,\n",
       "       [ 1.03430685, -1.03192222,  1.51707363, ..., -0.12343251,\n",
       "         0.13916916,  0.05359292],\n",
       "       [-1.03430685,  1.03192222, -1.51707363, ...,  0.12343251,\n",
       "        -0.13916916, -0.05359292],\n",
       "       [ 1.03430685, -1.03192222,  1.51707363, ..., -0.12343251,\n",
       "         0.13916916,  0.05359292]])"
      ]
     },
     "execution_count": 40,
     "metadata": {},
     "output_type": "execute_result"
    }
   ],
   "source": [
    "#Matrix multiplication of the batch parameters(coefficeints) with their corresponding encodings in the design matrix \n",
    "# -- yields the portion of signal intensity attributed to batch, this is just subtracted out \n",
    "results['batch_effect']"
   ]
  },
  {
   "cell_type": "markdown",
   "id": "ae4ad5d3",
   "metadata": {},
   "source": [
    "## PCA Plot"
   ]
  },
  {
   "cell_type": "code",
   "execution_count": 53,
   "id": "1fb8beb2",
   "metadata": {},
   "outputs": [
    {
     "data": {
      "image/png": "[encoded data removed]",
      "text/plain": [
       "<Figure size 640x480 with 1 Axes>"
      ]
     },
     "metadata": {},
     "output_type": "display_data"
    }
   ],
   "source": [
    "pca_plot(results['adjusted_D'].T,M,title=\"Limma-Correction\")"
   ]
  }
 ],
 "metadata": {
  "kernelspec": {
   "display_name": "home",
   "language": "python",
   "name": "python3"
  },
  "language_info": {
   "codemirror_mode": {
    "name": "ipython",
    "version": 3
   },
   "file_extension": ".py",
   "mimetype": "text/x-python",
   "name": "python",
   "nbconvert_exporter": "python",
   "pygments_lexer": "ipython3",
   "version": "3.13.4"
  }
 },
 "nbformat": 4,
 "nbformat_minor": 5
}
